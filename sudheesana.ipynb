{
  "cells": [
    {
      "cell_type": "code",
      "execution_count": null,
      "metadata": {
        "id": "IsrTmHIPTQwq"
      },
      "outputs": [],
      "source": [
        "import numpy as np\n",
        "import pandas as pd\n",
        "import matplotlib.pyplot as plt\n"
      ]
    },
    {
      "cell_type": "code",
      "execution_count": null,
      "metadata": {
        "id": "HiXn9UcrVOz_"
      },
      "outputs": [],
      "source": [
        "df=pd.read_csv(\"International_Report_Passengers.csv\")"
      ]
    },
    {
      "cell_type": "code",
      "execution_count": null,
      "metadata": {
        "colab": {
          "base_uri": "https://localhost:8080/",
          "height": 488
        },
        "id": "dOi0omOLVmJC",
        "outputId": "28dde9ad-4173-4f3e-b86c-fc96e6c5d33a"
      },
      "outputs": [
        {
          "data": {
            "text/html": [
              "\n",
              "  <div id=\"df-82db19f3-0312-4855-ae14-c932e3f4e129\">\n",
              "    <div class=\"colab-df-container\">\n",
              "      <div>\n",
              "<style scoped>\n",
              "    .dataframe tbody tr th:only-of-type {\n",
              "        vertical-align: middle;\n",
              "    }\n",
              "\n",
              "    .dataframe tbody tr th {\n",
              "        vertical-align: top;\n",
              "    }\n",
              "\n",
              "    .dataframe thead th {\n",
              "        text-align: right;\n",
              "    }\n",
              "</style>\n",
              "<table border=\"1\" class=\"dataframe\">\n",
              "  <thead>\n",
              "    <tr style=\"text-align: right;\">\n",
              "      <th></th>\n",
              "      <th>data_dte</th>\n",
              "      <th>Year</th>\n",
              "      <th>Month</th>\n",
              "      <th>usg_apt_id</th>\n",
              "      <th>usg_apt</th>\n",
              "      <th>usg_wac</th>\n",
              "      <th>fg_apt_id</th>\n",
              "      <th>fg_apt</th>\n",
              "      <th>fg_wac</th>\n",
              "      <th>airlineid</th>\n",
              "      <th>carrier</th>\n",
              "      <th>carriergroup</th>\n",
              "      <th>type</th>\n",
              "      <th>Scheduled</th>\n",
              "      <th>Charter</th>\n",
              "      <th>Total</th>\n",
              "    </tr>\n",
              "  </thead>\n",
              "  <tbody>\n",
              "    <tr>\n",
              "      <th>0</th>\n",
              "      <td>05/01/2014</td>\n",
              "      <td>2014</td>\n",
              "      <td>5</td>\n",
              "      <td>14492</td>\n",
              "      <td>RDU</td>\n",
              "      <td>36</td>\n",
              "      <td>11032</td>\n",
              "      <td>CUN</td>\n",
              "      <td>148</td>\n",
              "      <td>19534</td>\n",
              "      <td>AM</td>\n",
              "      <td>0.0</td>\n",
              "      <td>Passengers</td>\n",
              "      <td>0.0</td>\n",
              "      <td>315.0</td>\n",
              "      <td>315.0</td>\n",
              "    </tr>\n",
              "    <tr>\n",
              "      <th>1</th>\n",
              "      <td>06/01/2007</td>\n",
              "      <td>2007</td>\n",
              "      <td>6</td>\n",
              "      <td>13204</td>\n",
              "      <td>MCO</td>\n",
              "      <td>33</td>\n",
              "      <td>16085</td>\n",
              "      <td>YHZ</td>\n",
              "      <td>951</td>\n",
              "      <td>20364</td>\n",
              "      <td>C6</td>\n",
              "      <td>0.0</td>\n",
              "      <td>Passengers</td>\n",
              "      <td>0.0</td>\n",
              "      <td>683.0</td>\n",
              "      <td>683.0</td>\n",
              "    </tr>\n",
              "    <tr>\n",
              "      <th>2</th>\n",
              "      <td>12/01/2005</td>\n",
              "      <td>2005</td>\n",
              "      <td>12</td>\n",
              "      <td>11433</td>\n",
              "      <td>DTW</td>\n",
              "      <td>43</td>\n",
              "      <td>10411</td>\n",
              "      <td>AUA</td>\n",
              "      <td>277</td>\n",
              "      <td>20344</td>\n",
              "      <td>RD</td>\n",
              "      <td>1.0</td>\n",
              "      <td>Passengers</td>\n",
              "      <td>0.0</td>\n",
              "      <td>1010.0</td>\n",
              "      <td>1010.0</td>\n",
              "    </tr>\n",
              "    <tr>\n",
              "      <th>3</th>\n",
              "      <td>04/01/2003</td>\n",
              "      <td>2003</td>\n",
              "      <td>4</td>\n",
              "      <td>13487</td>\n",
              "      <td>MSP</td>\n",
              "      <td>63</td>\n",
              "      <td>16304</td>\n",
              "      <td>ZIH</td>\n",
              "      <td>148</td>\n",
              "      <td>20204</td>\n",
              "      <td>MG</td>\n",
              "      <td>1.0</td>\n",
              "      <td>Passengers</td>\n",
              "      <td>0.0</td>\n",
              "      <td>508.0</td>\n",
              "      <td>508.0</td>\n",
              "    </tr>\n",
              "    <tr>\n",
              "      <th>4</th>\n",
              "      <td>12/01/2005</td>\n",
              "      <td>2005</td>\n",
              "      <td>12</td>\n",
              "      <td>12016</td>\n",
              "      <td>GUM</td>\n",
              "      <td>5</td>\n",
              "      <td>11138</td>\n",
              "      <td>CRK</td>\n",
              "      <td>766</td>\n",
              "      <td>20312</td>\n",
              "      <td>TZ</td>\n",
              "      <td>1.0</td>\n",
              "      <td>Passengers</td>\n",
              "      <td>0.0</td>\n",
              "      <td>76.0</td>\n",
              "      <td>76.0</td>\n",
              "    </tr>\n",
              "    <tr>\n",
              "      <th>...</th>\n",
              "      <td>...</td>\n",
              "      <td>...</td>\n",
              "      <td>...</td>\n",
              "      <td>...</td>\n",
              "      <td>...</td>\n",
              "      <td>...</td>\n",
              "      <td>...</td>\n",
              "      <td>...</td>\n",
              "      <td>...</td>\n",
              "      <td>...</td>\n",
              "      <td>...</td>\n",
              "      <td>...</td>\n",
              "      <td>...</td>\n",
              "      <td>...</td>\n",
              "      <td>...</td>\n",
              "      <td>...</td>\n",
              "    </tr>\n",
              "    <tr>\n",
              "      <th>377397</th>\n",
              "      <td>10/01/1992</td>\n",
              "      <td>1992</td>\n",
              "      <td>10</td>\n",
              "      <td>12478</td>\n",
              "      <td>JFK</td>\n",
              "      <td>22</td>\n",
              "      <td>12972</td>\n",
              "      <td>LHR</td>\n",
              "      <td>493</td>\n",
              "      <td>19616</td>\n",
              "      <td>KU</td>\n",
              "      <td>0.0</td>\n",
              "      <td>Passengers</td>\n",
              "      <td>4753.0</td>\n",
              "      <td>0.0</td>\n",
              "      <td>4753.0</td>\n",
              "    </tr>\n",
              "    <tr>\n",
              "      <th>377398</th>\n",
              "      <td>03/01/2002</td>\n",
              "      <td>2002</td>\n",
              "      <td>3</td>\n",
              "      <td>11618</td>\n",
              "      <td>EWR</td>\n",
              "      <td>21</td>\n",
              "      <td>12991</td>\n",
              "      <td>LIS</td>\n",
              "      <td>469</td>\n",
              "      <td>19576</td>\n",
              "      <td>TP</td>\n",
              "      <td>0.0</td>\n",
              "      <td>Passengers</td>\n",
              "      <td>4753.0</td>\n",
              "      <td>0.0</td>\n",
              "      <td>4753.0</td>\n",
              "    </tr>\n",
              "    <tr>\n",
              "      <th>377399</th>\n",
              "      <td>04/01/1995</td>\n",
              "      <td>1995</td>\n",
              "      <td>4</td>\n",
              "      <td>14771</td>\n",
              "      <td>SFO</td>\n",
              "      <td>91</td>\n",
              "      <td>14832</td>\n",
              "      <td>SJD</td>\n",
              "      <td>148</td>\n",
              "      <td>19930</td>\n",
              "      <td>AS</td>\n",
              "      <td>1.0</td>\n",
              "      <td>Passengers</td>\n",
              "      <td>4753.0</td>\n",
              "      <td>0.0</td>\n",
              "      <td>4753.0</td>\n",
              "    </tr>\n",
              "    <tr>\n",
              "      <th>377400</th>\n",
              "      <td>04/01/2014</td>\n",
              "      <td>2014</td>\n",
              "      <td>4</td>\n",
              "      <td>15304</td>\n",
              "      <td>TPA</td>\n",
              "      <td>33</td>\n",
              "      <td>16321</td>\n",
              "      <td>ZRH</td>\n",
              "      <td>486</td>\n",
              "      <td>20234</td>\n",
              "      <td>8R</td>\n",
              "      <td>0.0</td>\n",
              "      <td>Passengers</td>\n",
              "      <td>4753.0</td>\n",
              "      <td>0.0</td>\n",
              "      <td>4753.0</td>\n",
              "    </tr>\n",
              "    <tr>\n",
              "      <th>377401</th>\n",
              "      <td>08/01/2007</td>\n",
              "      <td>2007</td>\n",
              "      <td>8</td>\n",
              "      <td>10299</td>\n",
              "      <td>ANC</td>\n",
              "      <td>1</td>\n",
              "      <td>16229</td>\n",
              "      <td>YVR</td>\n",
              "      <td>906</td>\n",
              "      <td>19</td>\n",
              "      <td>NaN</td>\n",
              "      <td>NaN</td>\n",
              "      <td>NaN</td>\n",
              "      <td>NaN</td>\n",
              "      <td>NaN</td>\n",
              "      <td>NaN</td>\n",
              "    </tr>\n",
              "  </tbody>\n",
              "</table>\n",
              "<p>377402 rows × 16 columns</p>\n",
              "</div>\n",
              "      <button class=\"colab-df-convert\" onclick=\"convertToInteractive('df-82db19f3-0312-4855-ae14-c932e3f4e129')\"\n",
              "              title=\"Convert this dataframe to an interactive table.\"\n",
              "              style=\"display:none;\">\n",
              "        \n",
              "  <svg xmlns=\"http://www.w3.org/2000/svg\" height=\"24px\"viewBox=\"0 0 24 24\"\n",
              "       width=\"24px\">\n",
              "    <path d=\"M0 0h24v24H0V0z\" fill=\"none\"/>\n",
              "    <path d=\"M18.56 5.44l.94 2.06.94-2.06 2.06-.94-2.06-.94-.94-2.06-.94 2.06-2.06.94zm-11 1L8.5 8.5l.94-2.06 2.06-.94-2.06-.94L8.5 2.5l-.94 2.06-2.06.94zm10 10l.94 2.06.94-2.06 2.06-.94-2.06-.94-.94-2.06-.94 2.06-2.06.94z\"/><path d=\"M17.41 7.96l-1.37-1.37c-.4-.4-.92-.59-1.43-.59-.52 0-1.04.2-1.43.59L10.3 9.45l-7.72 7.72c-.78.78-.78 2.05 0 2.83L4 21.41c.39.39.9.59 1.41.59.51 0 1.02-.2 1.41-.59l7.78-7.78 2.81-2.81c.8-.78.8-2.07 0-2.86zM5.41 20L4 18.59l7.72-7.72 1.47 1.35L5.41 20z\"/>\n",
              "  </svg>\n",
              "      </button>\n",
              "      \n",
              "  <style>\n",
              "    .colab-df-container {\n",
              "      display:flex;\n",
              "      flex-wrap:wrap;\n",
              "      gap: 12px;\n",
              "    }\n",
              "\n",
              "    .colab-df-convert {\n",
              "      background-color: #E8F0FE;\n",
              "      border: none;\n",
              "      border-radius: 50%;\n",
              "      cursor: pointer;\n",
              "      display: none;\n",
              "      fill: #1967D2;\n",
              "      height: 32px;\n",
              "      padding: 0 0 0 0;\n",
              "      width: 32px;\n",
              "    }\n",
              "\n",
              "    .colab-df-convert:hover {\n",
              "      background-color: #E2EBFA;\n",
              "      box-shadow: 0px 1px 2px rgba(60, 64, 67, 0.3), 0px 1px 3px 1px rgba(60, 64, 67, 0.15);\n",
              "      fill: #174EA6;\n",
              "    }\n",
              "\n",
              "    [theme=dark] .colab-df-convert {\n",
              "      background-color: #3B4455;\n",
              "      fill: #D2E3FC;\n",
              "    }\n",
              "\n",
              "    [theme=dark] .colab-df-convert:hover {\n",
              "      background-color: #434B5C;\n",
              "      box-shadow: 0px 1px 3px 1px rgba(0, 0, 0, 0.15);\n",
              "      filter: drop-shadow(0px 1px 2px rgba(0, 0, 0, 0.3));\n",
              "      fill: #FFFFFF;\n",
              "    }\n",
              "  </style>\n",
              "\n",
              "      <script>\n",
              "        const buttonEl =\n",
              "          document.querySelector('#df-82db19f3-0312-4855-ae14-c932e3f4e129 button.colab-df-convert');\n",
              "        buttonEl.style.display =\n",
              "          google.colab.kernel.accessAllowed ? 'block' : 'none';\n",
              "\n",
              "        async function convertToInteractive(key) {\n",
              "          const element = document.querySelector('#df-82db19f3-0312-4855-ae14-c932e3f4e129');\n",
              "          const dataTable =\n",
              "            await google.colab.kernel.invokeFunction('convertToInteractive',\n",
              "                                                     [key], {});\n",
              "          if (!dataTable) return;\n",
              "\n",
              "          const docLinkHtml = 'Like what you see? Visit the ' +\n",
              "            '<a target=\"_blank\" href=https://colab.research.google.com/notebooks/data_table.ipynb>data table notebook</a>'\n",
              "            + ' to learn more about interactive tables.';\n",
              "          element.innerHTML = '';\n",
              "          dataTable['output_type'] = 'display_data';\n",
              "          await google.colab.output.renderOutput(dataTable, element);\n",
              "          const docLink = document.createElement('div');\n",
              "          docLink.innerHTML = docLinkHtml;\n",
              "          element.appendChild(docLink);\n",
              "        }\n",
              "      </script>\n",
              "    </div>\n",
              "  </div>\n",
              "  "
            ],
            "text/plain": [
              "          data_dte  Year  Month  usg_apt_id usg_apt  usg_wac  fg_apt_id  \\\n",
              "0       05/01/2014  2014      5       14492     RDU       36      11032   \n",
              "1       06/01/2007  2007      6       13204     MCO       33      16085   \n",
              "2       12/01/2005  2005     12       11433     DTW       43      10411   \n",
              "3       04/01/2003  2003      4       13487     MSP       63      16304   \n",
              "4       12/01/2005  2005     12       12016     GUM        5      11138   \n",
              "...            ...   ...    ...         ...     ...      ...        ...   \n",
              "377397  10/01/1992  1992     10       12478     JFK       22      12972   \n",
              "377398  03/01/2002  2002      3       11618     EWR       21      12991   \n",
              "377399  04/01/1995  1995      4       14771     SFO       91      14832   \n",
              "377400  04/01/2014  2014      4       15304     TPA       33      16321   \n",
              "377401  08/01/2007  2007      8       10299     ANC        1      16229   \n",
              "\n",
              "       fg_apt  fg_wac  airlineid carrier  carriergroup        type  Scheduled  \\\n",
              "0         CUN     148      19534      AM           0.0  Passengers        0.0   \n",
              "1         YHZ     951      20364      C6           0.0  Passengers        0.0   \n",
              "2         AUA     277      20344      RD           1.0  Passengers        0.0   \n",
              "3         ZIH     148      20204      MG           1.0  Passengers        0.0   \n",
              "4         CRK     766      20312      TZ           1.0  Passengers        0.0   \n",
              "...       ...     ...        ...     ...           ...         ...        ...   \n",
              "377397    LHR     493      19616      KU           0.0  Passengers     4753.0   \n",
              "377398    LIS     469      19576      TP           0.0  Passengers     4753.0   \n",
              "377399    SJD     148      19930      AS           1.0  Passengers     4753.0   \n",
              "377400    ZRH     486      20234      8R           0.0  Passengers     4753.0   \n",
              "377401    YVR     906         19     NaN           NaN         NaN        NaN   \n",
              "\n",
              "        Charter   Total  \n",
              "0         315.0   315.0  \n",
              "1         683.0   683.0  \n",
              "2        1010.0  1010.0  \n",
              "3         508.0   508.0  \n",
              "4          76.0    76.0  \n",
              "...         ...     ...  \n",
              "377397      0.0  4753.0  \n",
              "377398      0.0  4753.0  \n",
              "377399      0.0  4753.0  \n",
              "377400      0.0  4753.0  \n",
              "377401      NaN     NaN  \n",
              "\n",
              "[377402 rows x 16 columns]"
            ]
          },
          "execution_count": 8,
          "metadata": {},
          "output_type": "execute_result"
        }
      ],
      "source": [
        "df\n"
      ]
    },
    {
      "cell_type": "code",
      "source": [
        "x=df.Year\n",
        "y=df.usg_wac\n",
        "plt.plot(x)"
      ],
      "metadata": {
        "id": "HxLiEN8ab5me",
        "colab": {
          "base_uri": "https://localhost:8080/",
          "height": 284
        },
        "outputId": "ed70da32-4a0e-4d3b-b9a6-dee7bdd1d4c9"
      },
      "execution_count": null,
      "outputs": [
        {
          "output_type": "execute_result",
          "data": {
            "text/plain": [
              "[<matplotlib.lines.Line2D at 0x7f3451602710>]"
            ]
          },
          "metadata": {},
          "execution_count": 11
        },
        {
          "output_type": "display_data",
          "data": {
            "text/plain": [
              "<Figure size 432x288 with 1 Axes>"
            ],
            "image/png": "[encoded data removed]"
          },
          "metadata": {
            "needs_background": "light"
          }
        }
      ]
    },
    {
      "cell_type": "code",
      "execution_count": null,
      "metadata": {
        "colab": {
          "base_uri": "https://localhost:8080/",
          "height": 283
        },
        "id": "btH_6jhwWKLV",
        "outputId": "fdec7741-aac9-4da5-96f6-0448f356495f"
      },
      "outputs": [
        {
          "output_type": "execute_result",
          "data": {
            "text/plain": [
              "<matplotlib.collections.PathCollection at 0x7f345148e410>"
            ]
          },
          "metadata": {},
          "execution_count": 12
        },
        {
          "output_type": "display_data",
          "data": {
            "text/plain": [
              "<Figure size 432x288 with 1 Axes>"
            ],
            "image/png": "[encoded data removed]"
          },
          "metadata": {
            "needs_background": "light"
          }
        }
      ],
      "source": [
        "x=df.airlineid\n",
        "y=df.usg_wac\n",
        "plt.scatter(x,y)\n",
        "\n",
        "\n"
      ]
    },
    {
      "cell_type": "code",
      "execution_count": null,
      "metadata": {
        "colab": {
          "base_uri": "https://localhost:8080/",
          "height": 283
        },
        "id": "fqFNkocjWied",
        "outputId": "9793cf46-2ed9-4748-a465-f7b9396b136c"
      },
      "outputs": [
        {
          "output_type": "execute_result",
          "data": {
            "text/plain": [
              "<BarContainer object of 121925 artists>"
            ]
          },
          "metadata": {},
          "execution_count": 15
        },
        {
          "output_type": "display_data",
          "data": {
            "text/plain": [
              "<Figure size 432x288 with 1 Axes>"
            ],
            "image/png": "[encoded data removed]"
          },
          "metadata": {
            "needs_background": "light"
          }
        }
      ],
      "source": [
        "x=df.Year\n",
        "y=df.Month\n",
        "plt.bar(x,y)\n"
      ]
    },
    {
      "cell_type": "code",
      "source": [
        "x=df.Year\n",
        "y=df.Month\n",
        "plt.stem(x,y)\n"
      ],
      "metadata": {
        "colab": {
          "base_uri": "https://localhost:8080/",
          "height": 265
        },
        "id": "7B7ydbO45gvZ",
        "outputId": "0520ef6d-9b66-4a31-b274-3c0f7e85e781"
      },
      "execution_count": null,
      "outputs": [
        {
          "output_type": "display_data",
          "data": {
            "text/plain": [
              "<Figure size 432x288 with 1 Axes>"
            ],
            "image/png": "[encoded data removed]"
          },
          "metadata": {
            "needs_background": "light"
          }
        }
      ]
    },
    {
      "cell_type": "code",
      "source": [
        "plt.hist(df.Year)"
      ],
      "metadata": {
        "id": "s9FqzJ7IfxyG",
        "colab": {
          "base_uri": "https://localhost:8080/",
          "height": 356
        },
        "outputId": "b47a76f7-c2b2-4262-a3cd-cf2dc86df656"
      },
      "execution_count": null,
      "outputs": [
        {
          "output_type": "execute_result",
          "data": {
            "text/plain": [
              "(array([13175., 16972., 15137., 13795., 12778., 11698.,  9940., 12409.,\n",
              "        13262.,  2759.]),\n",
              " array([1990. , 1992.9, 1995.8, 1998.7, 2001.6, 2004.5, 2007.4, 2010.3,\n",
              "        2013.2, 2016.1, 2019. ]),\n",
              " <a list of 10 Patch objects>)"
            ]
          },
          "metadata": {},
          "execution_count": 18
        },
        {
          "output_type": "display_data",
          "data": {
            "text/plain": [
              "<Figure size 432x288 with 1 Axes>"
            ],
            "image/png": "[encoded data removed]"
          },
          "metadata": {
            "needs_background": "light"
          }
        }
      ]
    },
    {
      "cell_type": "code",
      "source": [
        "x=df.Year\n",
        "y=df.Month\n",
        "plt.fill_between(x,y)\n",
        "\n"
      ],
      "metadata": {
        "colab": {
          "base_uri": "https://localhost:8080/",
          "height": 283
        },
        "id": "6Fwffia-7lt8",
        "outputId": "5c2a3946-da2c-4364-c1bb-3cb105b2b425"
      },
      "execution_count": null,
      "outputs": [
        {
          "output_type": "execute_result",
          "data": {
            "text/plain": [
              "<matplotlib.collections.PolyCollection at 0x7f32dface450>"
            ]
          },
          "metadata": {},
          "execution_count": 19
        },
        {
          "output_type": "display_data",
          "data": {
            "text/plain": [
              "<Figure size 432x288 with 1 Axes>"
            ],
            "image/png": "[encoded data removed]"
          },
          "metadata": {
            "needs_background": "light"
          }
        }
      ]
    }
  ],
  "metadata": {
    "colab": {
      "provenance": [],
      "collapsed_sections": []
    },
    "kernelspec": {
      "display_name": "Python 3",
      "name": "python3"
    },
    "language_info": {
      "name": "python"
    }
  },
  "nbformat": 4,
  "nbformat_minor": 0
}